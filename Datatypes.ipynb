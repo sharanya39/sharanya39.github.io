{
 "cells": [
  {
   "cell_type": "markdown",
   "metadata": {},
   "source": [
    "1. Literals, Variables, and Identifiers\n",
    "Literals are the constant values in Python. Variables are names given to memory locations, and identifiers are names for variables, functions, etc.\n",
    "Example:\n",
    "x = 5  # Integer literal\n",
    "y = \"Hello, Python!\"  # String literal\n",
    "z = 3.14  # Float literal\n"
   ]
  },
  {
   "cell_type": "code",
   "execution_count": 2,
   "metadata": {},
   "outputs": [
    {
     "name": "stdout",
     "output_type": "stream",
     "text": [
      "5\n"
     ]
    }
   ],
   "source": [
    "x=5\n",
    "print(x)"
   ]
  },
  {
   "cell_type": "code",
   "execution_count": 3,
   "metadata": {},
   "outputs": [
    {
     "name": "stdout",
     "output_type": "stream",
     "text": [
      "Hello, Python!\n"
     ]
    }
   ],
   "source": [
    "y = \"Hello, Python!\"\n",
    "print(y)"
   ]
  },
  {
   "cell_type": "markdown",
   "metadata": {},
   "source": [
    "2. Data Types\n",
    "Python supports various data types like integers, floats, strings, lists, tuples, sets, and dictionaries.\n",
    "Example:\n",
    "a = 10  # Integer\n",
    "b = 3.14  # Float\n",
    "c = \"Python\"  # String\n",
    "d = [1, 2, 3]  # List\n",
    "\n"
   ]
  },
  {
   "cell_type": "code",
   "execution_count": 14,
   "metadata": {},
   "outputs": [
    {
     "name": "stdout",
     "output_type": "stream",
     "text": [
      "<class 'int'>\n",
      "<class 'float'>\n",
      "<class 'str'>\n",
      "<class 'list'>\n"
     ]
    }
   ],
   "source": [
    "a=10\n",
    "print(type(a))\n",
    "b=3.14\n",
    "print(type(b))\n",
    "c=\"python\"\n",
    "print(type(c))\n",
    "d=[1,2,3]\n",
    "print(type(d))\n"
   ]
  }
 ],
 "metadata": {
  "kernelspec": {
   "display_name": "Training",
   "language": "python",
   "name": "python3"
  },
  "language_info": {
   "codemirror_mode": {
    "name": "ipython",
    "version": 3
   },
   "file_extension": ".py",
   "mimetype": "text/x-python",
   "name": "python",
   "nbconvert_exporter": "python",
   "pygments_lexer": "ipython3",
   "version": "3.12.3"
  }
 },
 "nbformat": 4,
 "nbformat_minor": 2
}
